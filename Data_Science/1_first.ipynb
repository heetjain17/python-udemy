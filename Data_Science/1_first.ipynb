{
 "cells": [
  {
   "cell_type": "markdown",
   "id": "cd82b020",
   "metadata": {},
   "source": [
    "### Welcome to Python notebook\n",
    "### First\n",
    "\n"
   ]
  },
  {
   "cell_type": "code",
   "execution_count": 1,
   "id": "95c11589",
   "metadata": {},
   "outputs": [
    {
     "name": "stdout",
     "output_type": "stream",
     "text": [
      "Hello\n"
     ]
    }
   ],
   "source": [
    "print(\"Hello\")"
   ]
  },
  {
   "cell_type": "code",
   "execution_count": 2,
   "id": "46479a03",
   "metadata": {},
   "outputs": [
    {
     "name": "stdout",
     "output_type": "stream",
     "text": [
      "Tonight's the night\n"
     ]
    }
   ],
   "source": [
    "print(\"Tonight's the night\")"
   ]
  },
  {
   "cell_type": "code",
   "execution_count": 3,
   "id": "0a365f29",
   "metadata": {},
   "outputs": [
    {
     "name": "stdout",
     "output_type": "stream",
     "text": [
      "the value is 0\n",
      "the value is 1\n",
      "the value is 2\n",
      "the value is 3\n",
      "the value is 4\n"
     ]
    }
   ],
   "source": [
    "for i in range(5):\n",
    "  print(f'the value is {i}')"
   ]
  }
 ],
 "metadata": {
  "kernelspec": {
   "display_name": "dataenv",
   "language": "python",
   "name": "python3"
  },
  "language_info": {
   "codemirror_mode": {
    "name": "ipython",
    "version": 3
   },
   "file_extension": ".py",
   "mimetype": "text/x-python",
   "name": "python",
   "nbconvert_exporter": "python",
   "pygments_lexer": "ipython3",
   "version": "3.13.2"
  }
 },
 "nbformat": 4,
 "nbformat_minor": 5
}
